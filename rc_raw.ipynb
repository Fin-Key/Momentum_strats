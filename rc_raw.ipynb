#Import basic libraries
import pandas as pd
import yfinance as yf
import numpy as np
import matplotlib.pyplot as plt
import datetime as dt
import pyfolio as pf
import talib as ta
import warnings
import requests
from bs4 import BeautifulSoup

#pip install yfinance

#pip install pyfolio

# get the list of all f&o tickers
fo_data=pd.read_csv("fo_mktlots.csv")
fo_list=fo_data["SYMBOL"]
fo_ticker=[]
for i in fo_list:
    fo_ticker.append(str(i)+".NS")

fo_ticker

#Download data from yfinance
close_data=yf.download(fo_ticker,start='2018-01-01')['Adj Close']
close_data.tail()

#calculate percentage return for the data frame
data_ret=close_data.pct_change()
data_ret.tail()

# resample returns by week
week_ret=(data_ret+1).resample("W").prod()
week_ret

# calculate 52 week rolling returns
week_ret_52= week_ret.rolling(window=52).apply(np.prod).dropna()
week_ret_52

#get the top5 of rolling returns on that particular day
top_5=week_ret_52.loc["2023-06-25"].nlargest(10)
top_5

top_5.name

#Calculate weekly returns of top 5 performers
req_week_ret=week_ret[top_5.name:][1:2][top_5.index]
req_week_ret

req_week_ret.mean(axis=1)

#Create a customised function function for geting top 5 f&o stocks
def week_top_performer(date):
    all_stock_data=week_ret.loc[date]
    top=week_ret_52.loc[date].nlargest(5)
    relevant_ret=week_ret[top.name:][1:2][top.index]
    return(relevant_ret.mean(axis=1)).values[0]

# test functionality using a test function
week_top_performer('2023-06-18')

# get the cumulative returns of the strategy
cum_ret=[]
for date in week_ret_52.index[:-1]:
    cum_ret.append(week_top_performer(date))


pd.Series(cum_ret).prod()

df_nifty=yf.download('^NSEI',start="2018-01-01")["Adj Close"]

(df_nifty.pct_change()+1).prod()

plt.plot(cum_ret)

top_5=week_ret_52.loc["2023-06-18"].nlargest(10)
top_5

bottom_5=week_ret_52.loc["2023-06-18"].nsmallest(5)
bottom_5

#Create a customised function function for geting worst 5 f&o stocks
def week_worst_performer(date):
    all_stock_data=week_ret.loc[date]
    bottom=week_ret_52.loc[date].nsmallest(5)
    relevant_ret=week_ret[bottom.name:][1:2][bottom.index]
    return(relevant_ret.mean(axis=1)).values[0]

# get the cumulative returns of the strategy
cum_ret_bottom=[]
for date in week_ret_52.index[:-1]:
    cum_ret_bottom.append(week_worst_performer(date))
    
pd.Series(cum_ret_bottom).prod()

plt.plot(cum_ret_bottom)

#Calculate stoploss price for all long stocks
for ticker in top_5:
    stop_loss=ta.ATR(ticker,period=14)
    

